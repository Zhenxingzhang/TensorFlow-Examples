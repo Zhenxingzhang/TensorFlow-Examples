{
 "cells": [
  {
   "cell_type": "code",
   "execution_count": 1,
   "metadata": {
    "collapsed": true
   },
   "outputs": [],
   "source": [
    "import numpy as np\n",
    "import pandas as pd\n",
    "import tensorflow as tf\n",
    "import matplotlib.pyplot as plt"
   ]
  },
  {
   "cell_type": "code",
   "execution_count": 2,
   "metadata": {
    "collapsed": true
   },
   "outputs": [],
   "source": [
    "data = np.loadtxt(\"../../data/ex2data1.txt\", delimiter=\",\")"
   ]
  },
  {
   "cell_type": "code",
   "execution_count": 96,
   "metadata": {},
   "outputs": [
    {
     "data": {
      "text/plain": [
       "array([[ 0.74775893,  0.89529813]])"
      ]
     },
     "execution_count": 96,
     "metadata": {},
     "output_type": "execute_result"
    }
   ],
   "source": [
    "X = tf.placeholder(tf.float32, [None, 2])\n",
    "y = tf.placeholder(tf.float32, [None, 1])\n",
    "\n",
    "def convertLabel(a):\n",
    "    if a[0] != 1:\n",
    "        return [-1]\n",
    "    else:\n",
    "        return [1]\n",
    "\n",
    "train_X = data[:, :2]/100\n",
    "train_Y = np.apply_along_axis(convertLabel, 1, data[:, 2:])\n",
    "train_X[99%100:99%100+2, :]"
   ]
  },
  {
   "cell_type": "code",
   "execution_count": 97,
   "metadata": {
    "collapsed": true
   },
   "outputs": [],
   "source": [
    "W = tf.Variable(tf.truncated_normal([2,1], stddev=0.1))\n",
    "b = tf.Variable(tf.ones([1]))\n",
    "y_ = tf.matmul(X, W) + b\n",
    "pred = tf.sign(y_)"
   ]
  },
  {
   "cell_type": "code",
   "execution_count": 120,
   "metadata": {
    "collapsed": true
   },
   "outputs": [],
   "source": [
    "learning_rate = 0.1\n",
    "epochs = 10000\n",
    "cost = tf.reduce_mean(tf.maximum(0., -y * y_))\n",
    "optimizer = tf.train.GradientDescentOptimizer(learning_rate=learning_rate).minimize(cost)"
   ]
  },
  {
   "cell_type": "code",
   "execution_count": 121,
   "metadata": {},
   "outputs": [
    {
     "name": "stdout",
     "output_type": "stream",
     "text": [
      "0.41245\n",
      "0.00112304\n"
     ]
    }
   ],
   "source": [
    "# Initializing the variables\n",
    "init = tf.global_variables_initializer()\n",
    "with tf.Session() as sess:\n",
    "    sess.run(init)\n",
    "    print sess.run(cost, {X: train_X, y: train_Y})\n",
    "    for i in range(epochs):\n",
    "        sess.run(optimizer, {X: train_X[i%100: i%100+1, :], y: train_Y[i%100:i%100+1, :]})\n",
    "    print sess.run(cost, {X: train_X, y: train_Y})\n",
    "    [w_, b_] = sess.run([W, b])"
   ]
  },
  {
   "cell_type": "code",
   "execution_count": 122,
   "metadata": {},
   "outputs": [
    {
     "data": {
      "image/png": "[encoded data removed]",
      "text/plain": [
       "<matplotlib.figure.Figure at 0x7f064cc7a510>"
      ]
     },
     "metadata": {},
     "output_type": "display_data"
    }
   ],
   "source": [
    "df = pd.DataFrame(data)\n",
    "positive = df.loc[df[2] == 1]\n",
    "nagetive = df.loc[df[2] == 0]\n",
    "plt.scatter(positive[0], positive[1], marker=\"+\")\n",
    "plt.scatter(nagetive[0], nagetive[1], marker=\"_\")\n",
    "plt.show()"
   ]
  },
  {
   "cell_type": "code",
   "execution_count": 123,
   "metadata": {},
   "outputs": [
    {
     "data": {
      "image/png": "[encoded data removed]",
      "text/plain": [
       "<matplotlib.figure.Figure at 0x7f064cf0b7d0>"
      ]
     },
     "metadata": {},
     "output_type": "display_data"
    },
    {
     "data": {
      "text/plain": [
       "array([[ 0.09016022],\n",
       "       [ 0.08799471]], dtype=float32)"
      ]
     },
     "execution_count": 123,
     "metadata": {},
     "output_type": "execute_result"
    }
   ],
   "source": [
    "plt.scatter(positive[0]/100, positive[1]/100, marker=\"+\")\n",
    "plt.scatter(nagetive[0]/100, nagetive[1]/100, marker=\"_\")\n",
    "plt.plot([(-b_/w_[0][0]), 0], [0, (-b_/w_[1][0])])\n",
    "plt.show()\n",
    "w_"
   ]
  },
  {
   "cell_type": "code",
   "execution_count": null,
   "metadata": {
    "collapsed": true
   },
   "outputs": [],
   "source": []
  },
  {
   "cell_type": "code",
   "execution_count": null,
   "metadata": {
    "collapsed": true
   },
   "outputs": [],
   "source": []
  }
 ],
 "metadata": {
  "kernelspec": {
   "display_name": "Python 2",
   "language": "python",
   "name": "python2"
  },
  "language_info": {
   "codemirror_mode": {
    "name": "ipython",
    "version": 2
   },
   "file_extension": ".py",
   "mimetype": "text/x-python",
   "name": "python",
   "nbconvert_exporter": "python",
   "pygments_lexer": "ipython2",
   "version": "2.7.12"
  }
 },
 "nbformat": 4,
 "nbformat_minor": 2
}
