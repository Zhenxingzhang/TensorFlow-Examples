{
 "cells": [
  {
   "cell_type": "code",
   "execution_count": 1,
   "metadata": {
    "collapsed": true
   },
   "outputs": [],
   "source": [
    "import tensorflow as tf"
   ]
  },
  {
   "cell_type": "code",
   "execution_count": 3,
   "metadata": {},
   "outputs": [
    {
     "name": "stdout",
     "output_type": "stream",
     "text": [
      "Extracting MNIST_data/train-images-idx3-ubyte.gz\n",
      "Extracting MNIST_data/train-labels-idx1-ubyte.gz\n",
      "Extracting MNIST_data/t10k-images-idx3-ubyte.gz\n",
      "Extracting MNIST_data/t10k-labels-idx1-ubyte.gz\n"
     ]
    }
   ],
   "source": [
    "# Import MINST data\n",
    "from tensorflow.examples.tutorials.mnist import input_data\n",
    "mnist = input_data.read_data_sets(\"MNIST_data/\", one_hot=True)"
   ]
  },
  {
   "cell_type": "code",
   "execution_count": 76,
   "metadata": {},
   "outputs": [
    {
     "data": {
      "text/plain": [
       "(55000, 784)"
      ]
     },
     "execution_count": 76,
     "metadata": {},
     "output_type": "execute_result"
    }
   ],
   "source": [
    "mnist.train.images.shape"
   ]
  },
  {
   "cell_type": "code",
   "execution_count": 81,
   "metadata": {},
   "outputs": [
    {
     "data": {
      "text/plain": [
       "array([[ 0.,  0.,  0., ...,  0.,  0.,  0.],\n",
       "       [ 0.,  0.,  0., ...,  0.,  0.,  0.],\n",
       "       [ 0.,  0.,  0., ...,  0.,  0.,  0.],\n",
       "       ..., \n",
       "       [ 0.,  0.,  0., ...,  0.,  0.,  0.],\n",
       "       [ 0.,  0.,  0., ...,  0.,  0.,  0.],\n",
       "       [ 0.,  0.,  0., ...,  0.,  0.,  0.]], dtype=float32)"
      ]
     },
     "execution_count": 81,
     "metadata": {},
     "output_type": "execute_result"
    }
   ],
   "source": [
    "mnist.test.images"
   ]
  },
  {
   "cell_type": "code",
   "execution_count": 110,
   "metadata": {},
   "outputs": [],
   "source": [
    "n_input = 784\n",
    "n_hidden_1 = 60\n",
    "n_hidden_2 = 60\n",
    "batch_size = 100\n",
    "learning_rate = 0.01\n",
    "training_epochs = 100\n",
    "display_step = 1\n",
    "\n",
    "X= tf.placeholder(\"float\", [None, n_input])\n",
    "y= tf.placeholder(\"float\", [None, 10])"
   ]
  },
  {
   "cell_type": "code",
   "execution_count": 111,
   "metadata": {},
   "outputs": [],
   "source": [
    "w1 = tf.Variable(tf.random_normal([n_input, n_hidden_1]))\n",
    "b = tf.Variable(tf.random_normal([1, n_hidden_1]))\n",
    "layer1_z = tf.matmul(X, w1) + b\n",
    "layer1_a = tf.sigmoid(layer1_z)\n",
    "\n",
    "layer_w2 = tf.Variable(tf.random_normal([n_hidden_1, n_hidden_2]))\n",
    "layer_b2 = tf.Variable(tf.random_normal([1, n_hidden_2]))\n",
    "layer_z2 = tf.matmul(layer1_a, layer_w2) + layer_b2\n",
    "layer_a2 = tf.sigmoid(layer_z2)\n",
    "\n",
    "output_w = tf.Variable(tf.random_normal([n_hidden_1, 10]))\n",
    "output_b = tf.Variable(tf.random_normal([1, 10]))\n",
    "output_z = tf.matmul(layer_a2, output_w)+output_b\n",
    "output_a = tf.sigmoid(output_z)\n",
    "\n",
    "pred = tf.nn.softmax(output_z)"
   ]
  },
  {
   "cell_type": "code",
   "execution_count": 112,
   "metadata": {},
   "outputs": [],
   "source": [
    "cost = tf.reduce_mean(tf.reduce_sum((-y * tf.log(pred)), reduction_indices=[1]))\n",
    "\n",
    "optimizer = tf.train.AdamOptimizer(learning_rate=learning_rate).minimize(cost)\n",
    "\n",
    "init = tf.global_variables_initializer()\n",
    "\n",
    "# Test model\n",
    "correct_prediction = tf.equal(tf.argmax(pred, 1), tf.argmax(y, 1))\n",
    "# Calculate accuracy\n",
    "accuracy = tf.reduce_mean(tf.cast(correct_prediction, \"float\"))"
   ]
  },
  {
   "cell_type": "code",
   "execution_count": 113,
   "metadata": {},
   "outputs": [
    {
     "name": "stdout",
     "output_type": "stream",
     "text": [
      "Epoch: 0001 cost= 0.645370688\n",
      "Epoch: 0002 cost= 0.226232824\n",
      "Epoch: 0003 cost= 0.171420316\n",
      "Epoch: 0004 cost= 0.133925068\n",
      "Epoch: 0005 cost= 0.116785956\n",
      "Epoch: 0006 cost= 0.104957003\n",
      "Epoch: 0007 cost= 0.088576129\n",
      "Epoch: 0008 cost= 0.081742952\n",
      "Epoch: 0009 cost= 0.075103799\n",
      "Epoch: 0010 cost= 0.072828499\n",
      "Epoch: 0011 cost= 0.066580838\n",
      "Epoch: 0012 cost= 0.062428127\n",
      "Epoch: 0013 cost= 0.059577240\n",
      "Epoch: 0014 cost= 0.051913825\n",
      "Epoch: 0015 cost= 0.048996321\n",
      "Epoch: 0016 cost= 0.049349178\n",
      "Epoch: 0017 cost= 0.042200726\n",
      "Epoch: 0018 cost= 0.043341507\n",
      "Epoch: 0019 cost= 0.042983861\n",
      "Epoch: 0020 cost= 0.043007704\n",
      "Epoch: 0021 cost= 0.037026833\n",
      "Epoch: 0022 cost= 0.033083102\n",
      "Epoch: 0023 cost= 0.038609228\n",
      "Epoch: 0024 cost= 0.037595642\n",
      "Epoch: 0025 cost= 0.034987238\n",
      "Epoch: 0026 cost= 0.032426054\n",
      "Epoch: 0027 cost= 0.030519637\n",
      "Epoch: 0028 cost= 0.029659185\n",
      "Epoch: 0029 cost= 0.030039394\n",
      "Epoch: 0030 cost= 0.032861345\n",
      "Epoch: 0031 cost= 0.032011218\n",
      "Epoch: 0032 cost= 0.030826845\n",
      "Epoch: 0033 cost= 0.026420621\n",
      "Epoch: 0034 cost= 0.028227069\n",
      "Epoch: 0035 cost= 0.032785746\n",
      "Epoch: 0036 cost= 0.030516901\n",
      "Epoch: 0037 cost= 0.020945405\n",
      "Epoch: 0038 cost= 0.025361550\n",
      "Epoch: 0039 cost= 0.023757034\n",
      "Epoch: 0040 cost= 0.028270812\n",
      "Epoch: 0041 cost= 0.028497039\n",
      "Epoch: 0042 cost= 0.029917374\n",
      "Epoch: 0043 cost= 0.026355780\n",
      "Epoch: 0044 cost= 0.023819328\n",
      "Epoch: 0045 cost= 0.022120630\n",
      "Epoch: 0046 cost= 0.025364395\n",
      "Epoch: 0047 cost= 0.021133179\n",
      "Epoch: 0048 cost= 0.025839540\n",
      "Epoch: 0049 cost= 0.022637459\n",
      "Epoch: 0050 cost= 0.025037062\n",
      "Epoch: 0051 cost= 0.021364473\n",
      "Epoch: 0052 cost= 0.018271934\n",
      "Epoch: 0053 cost= 0.019794303\n",
      "Epoch: 0054 cost= 0.026136018\n",
      "Epoch: 0055 cost= 0.019151407\n",
      "Epoch: 0056 cost= 0.024765435\n",
      "Epoch: 0057 cost= 0.025099532\n",
      "Epoch: 0058 cost= 0.019406378\n",
      "Epoch: 0059 cost= 0.018408307\n",
      "Epoch: 0060 cost= 0.019330162\n",
      "Epoch: 0061 cost= 0.028388303\n",
      "Epoch: 0062 cost= 0.016819476\n",
      "Epoch: 0063 cost= 0.019110579\n",
      "Epoch: 0064 cost= 0.026300093\n",
      "Epoch: 0065 cost= 0.013557973\n",
      "Epoch: 0066 cost= 0.016325911\n",
      "Epoch: 0067 cost= 0.024506729\n",
      "Epoch: 0068 cost= 0.025650912\n",
      "Epoch: 0069 cost= 0.021639213\n",
      "Epoch: 0070 cost= 0.019739292\n",
      "Epoch: 0071 cost= 0.015523841\n",
      "Epoch: 0072 cost= 0.017079443\n",
      "Epoch: 0073 cost= 0.021311765\n",
      "Epoch: 0074 cost= 0.016529666\n",
      "Epoch: 0075 cost= 0.016392168\n",
      "Epoch: 0076 cost= 0.019064912\n",
      "Epoch: 0077 cost= 0.018856389\n",
      "Epoch: 0078 cost= 0.020761010\n",
      "Epoch: 0079 cost= 0.013414339\n",
      "Epoch: 0080 cost= 0.015297435\n",
      "Epoch: 0081 cost= 0.012966215\n",
      "Epoch: 0082 cost= 0.023085255\n",
      "Epoch: 0083 cost= 0.019965745\n",
      "Epoch: 0084 cost= 0.019050254\n",
      "Epoch: 0085 cost= 0.017106926\n",
      "Epoch: 0086 cost= 0.013842588\n",
      "Epoch: 0087 cost= 0.015051387\n",
      "Epoch: 0088 cost= 0.017211199\n",
      "Epoch: 0089 cost= 0.021981884\n",
      "Epoch: 0090 cost= 0.016683536\n",
      "Epoch: 0091 cost= 0.019008070\n",
      "Epoch: 0092 cost= 0.019965269\n",
      "Epoch: 0093 cost= 0.012785303\n",
      "Epoch: 0094 cost= 0.014437090\n",
      "Epoch: 0095 cost= 0.016916312\n",
      "Epoch: 0096 cost= 0.012416788\n",
      "Epoch: 0097 cost= 0.019659790\n",
      "Epoch: 0098 cost= 0.015632343\n",
      "Epoch: 0099 cost= 0.018463542\n",
      "Epoch: 0100 cost= 0.015792935\n",
      "Optimization Finished!\n",
      "Accuracy: 0.9636\n"
     ]
    }
   ],
   "source": [
    "# Launch the graph\n",
    "with tf.Session() as sess:\n",
    "    sess.run(init)\n",
    "     # Training cycle\n",
    "    for epoch in range(training_epochs):\n",
    "        avg_cost = 0.\n",
    "        total_batch = int(mnist.train.num_examples/batch_size)\n",
    "        # Loop over all batches\n",
    "        for i in range(total_batch):\n",
    "            batch_x, batch_y = mnist.train.next_batch(batch_size)\n",
    "            # Run optimization op (backprop) and cost op (to get loss value)\n",
    "            _, c = sess.run([optimizer, cost], feed_dict={X: batch_x,\n",
    "                                                          y: batch_y})\n",
    "            # Compute average loss\n",
    "            avg_cost += c / total_batch\n",
    "        # Display logs per epoch step\n",
    "        if epoch % display_step == 0:\n",
    "            print \"Epoch:\", '%04d' % (epoch+1), \"cost=\", \\\n",
    "                \"{:.9f}\".format(avg_cost)\n",
    "    print \"Optimization Finished!\"\n",
    "    \n",
    "    print \"Accuracy:\", accuracy.eval({X: mnist.test.images, y: mnist.test.labels})"
   ]
  },
  {
   "cell_type": "code",
   "execution_count": 79,
   "metadata": {},
   "outputs": [
    {
     "name": "stdout",
     "output_type": "stream",
     "text": [
      "[7 2 1 ..., 4 5 6]\n"
     ]
    }
   ],
   "source": [
    "with tf.Session() as sess:\n",
    "    x = tf.placeholder(\"float\")\n",
    "    print sess.run(tf.argmax(x, 1), {x:mnist.test.labels})"
   ]
  },
  {
   "cell_type": "code",
   "execution_count": null,
   "metadata": {
    "collapsed": true
   },
   "outputs": [],
   "source": []
  }
 ],
 "metadata": {
  "kernelspec": {
   "display_name": "Python 2",
   "language": "python",
   "name": "python2"
  },
  "language_info": {
   "codemirror_mode": {
    "name": "ipython",
    "version": 2
   },
   "file_extension": ".py",
   "mimetype": "text/x-python",
   "name": "python",
   "nbconvert_exporter": "python",
   "pygments_lexer": "ipython2",
   "version": "2.7.12"
  }
 },
 "nbformat": 4,
 "nbformat_minor": 2
}
