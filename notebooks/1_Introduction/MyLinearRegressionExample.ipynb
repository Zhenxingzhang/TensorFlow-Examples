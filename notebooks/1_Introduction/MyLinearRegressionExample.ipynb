{
 "cells": [
  {
   "cell_type": "code",
   "execution_count": 1,
   "metadata": {
    "collapsed": true
   },
   "outputs": [],
   "source": [
    "import tensorflow as tf\n",
    "import numpy\n",
    "import matplotlib.pyplot as plt\n",
    "rng = numpy.random\n",
    "\n",
    "# Parameters\n",
    "learning_rate = 0.001\n",
    "training_epochs = 1000\n",
    "display_step = 50"
   ]
  },
  {
   "cell_type": "code",
   "execution_count": 2,
   "metadata": {
    "collapsed": true
   },
   "outputs": [],
   "source": [
    "# Training Data\n",
    "train_X = numpy.asarray([3.3,4.4,5.5,6.71,6.93,4.168,9.779,6.182,7.59,2.167,\n",
    "                         7.042,10.791,5.313,7.997,5.654,9.27,3.1])\n",
    "train_Y = numpy.asarray([1.7,2.76,2.09,3.19,1.694,1.573,3.366,2.596,2.53,1.221,\n",
    "                         2.827,3.465,1.65,2.904,2.42,2.94,1.3])\n",
    "n_samples = train_X.shape[0]\n",
    "train_X = train_X.reshape([n_samples, 1])\n",
    "train_Y = train_Y.reshape([n_samples, 1])"
   ]
  },
  {
   "cell_type": "code",
   "execution_count": 3,
   "metadata": {},
   "outputs": [
    {
     "name": "stdout",
     "output_type": "stream",
     "text": [
      "(?, 1)\n",
      "(1, 1)\n",
      "(?, 1)\n"
     ]
    }
   ],
   "source": [
    "X = tf.placeholder(tf.float32, shape=[None, 1])\n",
    "Y = tf.placeholder(tf.float32, shape=[None, 1])\n",
    "print X.shape\n",
    "W = tf.Variable(numpy.ones((1,1), numpy.float32))\n",
    "b = tf.Variable(numpy.ones((1,1), numpy.float32))\n",
    "print W.shape\n",
    "pred = tf.add(tf.matmul(X, W), b)\n",
    "print pred.shape"
   ]
  },
  {
   "cell_type": "code",
   "execution_count": 4,
   "metadata": {
    "collapsed": true
   },
   "outputs": [],
   "source": [
    "# cost = tf.reduce_sum(tf.pow(pred - Y, 2))/(2*n_samples)\n",
    "cost = tf.reduce_sum(tf.pow(pred-Y, 2))/(2*n_samples)\n",
    "# Gradient descent\n",
    "optimizer = tf.train.GradientDescentOptimizer(learning_rate).minimize(cost)\n",
    "\n",
    "init = tf.global_variables_initializer()"
   ]
  },
  {
   "cell_type": "code",
   "execution_count": 7,
   "metadata": {},
   "outputs": [
    {
     "name": "stdout",
     "output_type": "stream",
     "text": [
      "13.4352\n",
      "12.2559\n"
     ]
    }
   ],
   "source": [
    "sess = tf.Session()\n",
    "sess.run(init)\n",
    "sess.run(X, {X:train_X})\n",
    "sess.run(W)\n",
    "sess.run(pred, {X: train_X}).shape\n",
    "\n",
    "print sess.run(cost, {X: train_X, Y: train_Y})\n",
    "\n",
    "sess.run(optimizer, feed_dict={X: train_X, Y: train_Y})\n",
    "\n",
    "print sess.run(cost, {X: train_X, Y: train_Y})\n",
    "# print train_Y"
   ]
  },
  {
   "cell_type": "code",
   "execution_count": 8,
   "metadata": {},
   "outputs": [
    {
     "name": "stdout",
     "output_type": "stream",
     "text": [
      "Epoch: 0050 cost= 0.221725911 W= [[ 0.31764624]] b= [[ 0.90308499]]\n",
      "Epoch: 0100 cost= 0.078972474 W= [[ 0.24668737]] b= [[ 0.89249307]]\n",
      "Epoch: 0150 cost= 0.077464283 W= [[ 0.23937158]] b= [[ 0.89088982]]\n",
      "Epoch: 0200 cost= 0.077446386 W= [[ 0.23868009]] b= [[ 0.89022589]]\n",
      "Epoch: 0250 cost= 0.077440500 W= [[ 0.23867764]] b= [[ 0.88966125]]\n",
      "Epoch: 0300 cost= 0.077434421 W= [[ 0.2387466]] b= [[ 0.88911247]]\n",
      "Epoch: 0350 cost= 0.077428371 W= [[ 0.23882242]] b= [[ 0.88856864]]\n",
      "Epoch: 0400 cost= 0.077422336 W= [[ 0.23889871]] b= [[ 0.88802344]]\n",
      "Epoch: 0450 cost= 0.077416375 W= [[ 0.23897494]] b= [[ 0.88748288]]\n",
      "Epoch: 0500 cost= 0.077410489 W= [[ 0.23905075]] b= [[ 0.88694447]]\n",
      "Epoch: 0550 cost= 0.077404737 W= [[ 0.23912556]] b= [[ 0.88641614]]\n",
      "Epoch: 0600 cost= 0.077399097 W= [[ 0.23919916]] b= [[ 0.88589573]]\n",
      "Epoch: 0650 cost= 0.077393495 W= [[ 0.23927262]] b= [[ 0.88537407]]\n",
      "Epoch: 0700 cost= 0.077387869 W= [[ 0.23934601]] b= [[ 0.88484895]]\n",
      "Epoch: 0750 cost= 0.077382326 W= [[ 0.23941949]] b= [[ 0.88432503]]\n",
      "Epoch: 0800 cost= 0.077376842 W= [[ 0.23949286]] b= [[ 0.88380641]]\n",
      "Epoch: 0850 cost= 0.077371478 W= [[ 0.23956521]] b= [[ 0.88329405]]\n",
      "Epoch: 0900 cost= 0.077366136 W= [[ 0.23963676]] b= [[ 0.88278323]]\n",
      "Epoch: 0950 cost= 0.077360868 W= [[ 0.23970857]] b= [[ 0.88227391]]\n",
      "Epoch: 1000 cost= 0.077355675 W= [[ 0.23977967]] b= [[ 0.88177013]]\n",
      "Optimization Finished!\n",
      "Training cost= 0.0773557 W= [[ 0.23977967]] b= [[ 0.88177013]] \n",
      "\n"
     ]
    },
    {
     "data": {
      "image/png": "[encoded data removed]",
      "text/plain": [
       "<matplotlib.figure.Figure at 0x7f08c9793890>"
      ]
     },
     "metadata": {},
     "output_type": "display_data"
    }
   ],
   "source": [
    "# Launch the graph\n",
    "with tf.Session() as sess:\n",
    "    sess.run(init)\n",
    "\n",
    "    # Fit all training data\n",
    "    for epoch in range(training_epochs):\n",
    "        for i in range(train_X.shape[0]):\n",
    "#             print train_X[i], train_Y[0][i]\n",
    "            sess.run(optimizer, feed_dict={X: train_X[i].reshape(1,1), Y: train_Y[i][0].reshape(1,1)})\n",
    "\n",
    "        #Display logs per epoch step\n",
    "        if (epoch+1) % display_step == 0:\n",
    "            c = sess.run(cost, feed_dict={X: train_X, Y:train_Y})\n",
    "            print \"Epoch:\", '%04d' % (epoch+1), \"cost=\", \"{:.9f}\".format(c), \\\n",
    "                \"W=\", sess.run(W), \"b=\", sess.run(b)\n",
    "\n",
    "    print \"Optimization Finished!\"\n",
    "    training_cost = sess.run(cost, feed_dict={X: train_X, Y: train_Y})\n",
    "    print \"Training cost=\", training_cost, \"W=\", sess.run(W), \"b=\", sess.run(b), '\\n'\n",
    "\n",
    "    #Graphic display\n",
    "    plt.plot(train_X[:, 0], train_Y[:,0], 'ro', label='Original data')\n",
    "    plt.plot(train_X, sess.run(W) * train_X + sess.run(b), label='Fitted line')\n",
    "    plt.legend()\n",
    "    plt.show()"
   ]
  },
  {
   "cell_type": "code",
   "execution_count": 88,
   "metadata": {},
   "outputs": [
    {
     "name": "stdout",
     "output_type": "stream",
     "text": [
      "[ 3.3] [ 1.7    2.76   2.09   3.19   1.694  1.573  3.366  2.596  2.53   1.221\n",
      "  2.827  3.465  1.65   2.904  2.42   2.94   1.3  ]\n"
     ]
    }
   ],
   "source": [
    "for (x, y) in zip(train_X, train_Y):\n",
    "    print x, y"
   ]
  },
  {
   "cell_type": "code",
   "execution_count": 9,
   "metadata": {},
   "outputs": [
    {
     "name": "stdout",
     "output_type": "stream",
     "text": [
      "(1, 10)\n"
     ]
    }
   ],
   "source": [
    "a = tf.ones([1, 1])\n",
    "b = tf.zeros([1,10])\n",
    "c = a-b \n",
    "print c.shape"
   ]
  },
  {
   "cell_type": "code",
   "execution_count": 10,
   "metadata": {},
   "outputs": [
    {
     "data": {
      "text/plain": [
       "array([[ 1.,  1.,  1.,  1.,  1.,  1.,  1.,  1.,  1.,  1.]], dtype=float32)"
      ]
     },
     "execution_count": 10,
     "metadata": {},
     "output_type": "execute_result"
    }
   ],
   "source": [
    "d = tf.reduce_sum(c)\n",
    "init = tf.global_variables_initializer()\n",
    "sess = tf.Session()\n",
    "sess.run(c)"
   ]
  },
  {
   "cell_type": "code",
   "execution_count": null,
   "metadata": {
    "collapsed": true
   },
   "outputs": [],
   "source": []
  }
 ],
 "metadata": {
  "kernelspec": {
   "display_name": "Python 2",
   "language": "python",
   "name": "python2"
  },
  "language_info": {
   "codemirror_mode": {
    "name": "ipython",
    "version": 2
   },
   "file_extension": ".py",
   "mimetype": "text/x-python",
   "name": "python",
   "nbconvert_exporter": "python",
   "pygments_lexer": "ipython2",
   "version": "2.7.12"
  }
 },
 "nbformat": 4,
 "nbformat_minor": 2
}
