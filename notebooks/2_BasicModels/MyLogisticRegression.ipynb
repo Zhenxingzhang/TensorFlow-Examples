{
 "cells": [
  {
   "cell_type": "code",
   "execution_count": 1,
   "metadata": {
    "collapsed": true
   },
   "outputs": [],
   "source": [
    "import numpy as np\n",
    "import pandas as pd\n",
    "import tensorflow as tf\n",
    "import matplotlib.pyplot as plt"
   ]
  },
  {
   "cell_type": "code",
   "execution_count": 2,
   "metadata": {
    "collapsed": true
   },
   "outputs": [],
   "source": [
    "data = np.loadtxt(\"../../data/ex2data1.txt\", delimiter=\",\")"
   ]
  },
  {
   "cell_type": "code",
   "execution_count": 3,
   "metadata": {},
   "outputs": [
    {
     "data": {
      "text/plain": [
       "RangeIndex(start=0, stop=3, step=1)"
      ]
     },
     "execution_count": 3,
     "metadata": {},
     "output_type": "execute_result"
    }
   ],
   "source": [
    "df = pd.DataFrame(data)\n",
    "df.columns"
   ]
  },
  {
   "cell_type": "code",
   "execution_count": 4,
   "metadata": {},
   "outputs": [
    {
     "data": {
      "image/png": "[encoded data removed]",
      "text/plain": [
       "<matplotlib.figure.Figure at 0x7fafe26fd110>"
      ]
     },
     "metadata": {},
     "output_type": "display_data"
    }
   ],
   "source": [
    "positive = df.loc[df[2] == 1]\n",
    "nagetive = df.loc[df[2] == 0]\n",
    "plt.scatter(positive[0], positive[1], marker=\"+\")\n",
    "plt.scatter(nagetive[0], nagetive[1], marker=\"_\")\n",
    "plt.show()"
   ]
  },
  {
   "cell_type": "code",
   "execution_count": 5,
   "metadata": {},
   "outputs": [
    {
     "name": "stdout",
     "output_type": "stream",
     "text": [
      "           0          1\n",
      "0  34.623660  78.024693\n",
      "1  30.286711  43.894998\n",
      "2  35.847409  72.902198\n",
      "3  60.182599  86.308552\n",
      "4  79.032736  75.344376\n",
      "5  45.083277  56.316372\n",
      "6  61.106665  96.511426\n",
      "7  75.024746  46.554014\n",
      "8  76.098787  87.420570\n",
      "9  84.432820  43.533393\n"
     ]
    },
    {
     "data": {
      "text/plain": [
       "0    0.0\n",
       "1    0.0\n",
       "2    0.0\n",
       "3    1.0\n",
       "4    1.0\n",
       "5    0.0\n",
       "6    1.0\n",
       "7    1.0\n",
       "8    1.0\n",
       "9    1.0\n",
       "Name: 2, dtype: float64"
      ]
     },
     "execution_count": 5,
     "metadata": {},
     "output_type": "execute_result"
    }
   ],
   "source": [
    "print df.iloc[:10, :2]\n",
    "df.iloc[:10, 2]"
   ]
  },
  {
   "cell_type": "code",
   "execution_count": 6,
   "metadata": {
    "collapsed": true
   },
   "outputs": [],
   "source": [
    "X = tf.placeholder(tf.float32, shape=[None, 2])\n",
    "Y = tf.placeholder(tf.float32, shape=[None, 1])\n",
    "W = tf.Variable([[0.],[0.]])\n",
    "b = tf.Variable([0.])\n",
    "prob = tf.nn.sigmoid(tf.matmul(X,W)+b)\n",
    "# prob = tf.matmul(X,W)+b"
   ]
  },
  {
   "cell_type": "code",
   "execution_count": 7,
   "metadata": {},
   "outputs": [
    {
     "name": "stdout",
     "output_type": "stream",
     "text": [
      "[[ 0.5]\n",
      " [ 0.5]\n",
      " [ 0.5]\n",
      " [ 0.5]\n",
      " [ 0.5]\n",
      " [ 0.5]\n",
      " [ 0.5]\n",
      " [ 0.5]\n",
      " [ 0.5]\n",
      " [ 0.5]]\n"
     ]
    }
   ],
   "source": [
    "init = tf.global_variables_initializer()\n",
    "# Launch the graph\n",
    "with tf.Session() as sess:\n",
    "    sess.run(init)\n",
    "    print sess.run(prob, {X: data[:10, :2]/100})"
   ]
  },
  {
   "cell_type": "code",
   "execution_count": 14,
   "metadata": {
    "collapsed": true
   },
   "outputs": [],
   "source": [
    "# cost = tf.reduce_sum((Y-1)*tf.log(1-prob)-Y*tf.log(prob))\n",
    "# cost = tf.reduce_sum((Y-1)*tf.log(1.0-prob)-(Y*tf.log(prob)), reduction_indices=[0])\n",
    "# cost = tf.reduce_mean(tf.reduce_sum((-Y * tf.log(prob)) - ((1.0 - Y) * tf.log(1 - prob)), reduction_indices=[1]))\n",
    "cost = tf.reduce_mean(tf.reduce_sum(tf.square(Y-prob)/2))\n",
    "\n",
    "learning_rate = 0.5\n",
    "optimizer = tf.train.GradientDescentOptimizer(learning_rate).minimize(cost)"
   ]
  },
  {
   "cell_type": "code",
   "execution_count": 15,
   "metadata": {
    "collapsed": true
   },
   "outputs": [],
   "source": [
    "argMax = tf.argmin(prob, 1)\n",
    "with tf.Session() as sess:\n",
    "    sess.run(init)\n",
    "#     print sess.run(prob, {X: data[:, :2]/100, Y: data[:,2:]})"
   ]
  },
  {
   "cell_type": "code",
   "execution_count": 16,
   "metadata": {
    "collapsed": true
   },
   "outputs": [],
   "source": [
    "tf.summary.scalar('cost', cost)\n",
    "merged = tf.summary.merge_all() # this combines summary ops into 1 op so we can evaluate them together\n",
    "log_folder_name=\"/notebooks/log/\""
   ]
  },
  {
   "cell_type": "code",
   "execution_count": 17,
   "metadata": {},
   "outputs": [
    {
     "name": "stdout",
     "output_type": "stream",
     "text": [
      "[[ 0.]\n",
      " [ 0.]]\n",
      "12.5\n",
      "3.22541\n"
     ]
    }
   ],
   "source": [
    "init = tf.global_variables_initializer()\n",
    "# Launch the graph\n",
    "with tf.Session() as sess:\n",
    "    sess.run(init)\n",
    "    print sess.run(W)\n",
    "    print sess.run(cost, {X: data[:, :2]/100, Y: data[:,2:]})\n",
    "    \n",
    "    test_writer = tf.summary.FileWriter(log_folder_name, sess.graph)\n",
    "\n",
    "    for i in range(10000):\n",
    "        sess.run(optimizer, {X: data[:, :2]/100, Y: data[:,2:]})\n",
    "#         print sess.run(cost, {X: df.iloc[:, :2], Y: df.iloc[:,2].reshape([100,1])})\n",
    "        summary = sess.run(merged, feed_dict={X: data[:, :2]/100, Y: data[:,2:]})\n",
    "        test_writer.add_summary(summary, i)\n",
    "        \n",
    "    [w_, b_] = sess.run([W, b])\n",
    "    \n",
    "    print sess.run(cost, {X: data[:, :2]/100, Y: data[:,2:]})"
   ]
  },
  {
   "cell_type": "code",
   "execution_count": 19,
   "metadata": {},
   "outputs": [
    {
     "data": {
      "image/png": "[encoded data removed]",
      "text/plain": [
       "<matplotlib.figure.Figure at 0x7fafe2638710>"
      ]
     },
     "metadata": {},
     "output_type": "display_data"
    },
    {
     "data": {
      "text/plain": [
       "array([[ 20.28325653],\n",
       "       [ 17.79786682]], dtype=float32)"
      ]
     },
     "execution_count": 19,
     "metadata": {},
     "output_type": "execute_result"
    }
   ],
   "source": [
    "plt.scatter(positive[0]/100, positive[1]/100, marker=\"+\")\n",
    "plt.scatter(nagetive[0]/100, nagetive[1]/100, marker=\"_\")\n",
    "plt.plot([(-b_/w_[0][0]), 0], [0, (-b_/w_[1][0])])\n",
    "plt.show()\n",
    "w_"
   ]
  },
  {
   "cell_type": "code",
   "execution_count": null,
   "metadata": {
    "collapsed": true
   },
   "outputs": [],
   "source": []
  },
  {
   "cell_type": "code",
   "execution_count": null,
   "metadata": {
    "collapsed": true
   },
   "outputs": [],
   "source": []
  }
 ],
 "metadata": {
  "kernelspec": {
   "display_name": "Python 2",
   "language": "python",
   "name": "python2"
  },
  "language_info": {
   "codemirror_mode": {
    "name": "ipython",
    "version": 2
   },
   "file_extension": ".py",
   "mimetype": "text/x-python",
   "name": "python",
   "nbconvert_exporter": "python",
   "pygments_lexer": "ipython2",
   "version": "2.7.12"
  }
 },
 "nbformat": 4,
 "nbformat_minor": 2
}
